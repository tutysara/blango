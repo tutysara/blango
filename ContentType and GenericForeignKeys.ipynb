{
 "cells": [
  {
   "cell_type": "code",
   "execution_count": 2,
   "id": "647ec98a",
   "metadata": {},
   "outputs": [],
   "source": [
    "import os\n",
    "import django\n",
    "os.environ.setdefault('DJANGO_SETTINGS_MODULE', 'rest.settings')\n",
    "os.environ[\"DJANGO_ALLOW_ASYNC_UNSAFE\"] = \"true\"\n",
    "django.setup()"
   ]
  },
  {
   "cell_type": "code",
   "execution_count": 7,
   "id": "5a4415cb",
   "metadata": {},
   "outputs": [],
   "source": [
    "from blog.models import Post, Comment"
   ]
  },
  {
   "cell_type": "code",
   "execution_count": 8,
   "id": "bb9723bf",
   "metadata": {},
   "outputs": [],
   "source": [
    "from django.contrib.auth.models import User"
   ]
  },
  {
   "cell_type": "code",
   "execution_count": 9,
   "id": "917a9c81",
   "metadata": {},
   "outputs": [],
   "source": [
    "p = Post.objects.first()"
   ]
  },
  {
   "cell_type": "code",
   "execution_count": 11,
   "id": "60d0182d",
   "metadata": {},
   "outputs": [],
   "source": [
    "u = User.objects.first()"
   ]
  },
  {
   "cell_type": "code",
   "execution_count": 13,
   "id": "80e85cbb",
   "metadata": {},
   "outputs": [],
   "source": [
    "c1 = Comment(creator=u, content=\"What a great post!\",\n",
    "          content_object=p)"
   ]
  },
  {
   "cell_type": "code",
   "execution_count": 14,
   "id": "eaa0fae0",
   "metadata": {},
   "outputs": [],
   "source": [
    "c1.save()"
   ]
  },
  {
   "cell_type": "code",
   "execution_count": 15,
   "id": "48d13401",
   "metadata": {},
   "outputs": [
    {
     "data": {
      "text/plain": [
       "<Post: TypeScript Features to Avoid>"
      ]
     },
     "execution_count": 15,
     "metadata": {},
     "output_type": "execute_result"
    }
   ],
   "source": [
    "c1.content_object"
   ]
  },
  {
   "cell_type": "code",
   "execution_count": 16,
   "id": "b08805d0",
   "metadata": {},
   "outputs": [],
   "source": [
    "c2 = Comment(creator=u, content=\"I like myself!\",\n",
    "          content_object=u)"
   ]
  },
  {
   "cell_type": "code",
   "execution_count": 17,
   "id": "32bdc99f",
   "metadata": {},
   "outputs": [
    {
     "data": {
      "text/plain": [
       "<User: test>"
      ]
     },
     "execution_count": 17,
     "metadata": {},
     "output_type": "execute_result"
    }
   ],
   "source": [
    "c2.content_object"
   ]
  },
  {
   "cell_type": "code",
   "execution_count": 18,
   "id": "cd27ff44",
   "metadata": {},
   "outputs": [
    {
     "ename": "FieldError",
     "evalue": "Field 'content_object' does not generate an automatic reverse relation and therefore cannot be used for reverse querying. If it is a GenericForeignKey, consider adding a GenericRelation.",
     "output_type": "error",
     "traceback": [
      "\u001b[0;31m---------------------------------------------------------------------------\u001b[0m",
      "\u001b[0;31mFieldError\u001b[0m                                Traceback (most recent call last)",
      "Input \u001b[0;32mIn [18]\u001b[0m, in \u001b[0;36m<module>\u001b[0;34m\u001b[0m\n\u001b[0;32m----> 1\u001b[0m c \u001b[38;5;241m=\u001b[39m \u001b[43mComment\u001b[49m\u001b[38;5;241;43m.\u001b[39;49m\u001b[43mobjects\u001b[49m\u001b[38;5;241;43m.\u001b[39;49m\u001b[43mfilter\u001b[49m\u001b[43m(\u001b[49m\u001b[43mcontent_object\u001b[49m\u001b[38;5;241;43m=\u001b[39;49m\u001b[43mp\u001b[49m\u001b[43m)\u001b[49m\n",
      "File \u001b[0;32m~/src/django/codio-blog-banjo/blango/env/lib/python3.9/site-packages/django/db/models/manager.py:85\u001b[0m, in \u001b[0;36mBaseManager._get_queryset_methods.<locals>.create_method.<locals>.manager_method\u001b[0;34m(self, *args, **kwargs)\u001b[0m\n\u001b[1;32m     84\u001b[0m \u001b[38;5;28;01mdef\u001b[39;00m \u001b[38;5;21mmanager_method\u001b[39m(\u001b[38;5;28mself\u001b[39m, \u001b[38;5;241m*\u001b[39margs, \u001b[38;5;241m*\u001b[39m\u001b[38;5;241m*\u001b[39mkwargs):\n\u001b[0;32m---> 85\u001b[0m     \u001b[38;5;28;01mreturn\u001b[39;00m \u001b[38;5;28;43mgetattr\u001b[39;49m\u001b[43m(\u001b[49m\u001b[38;5;28;43mself\u001b[39;49m\u001b[38;5;241;43m.\u001b[39;49m\u001b[43mget_queryset\u001b[49m\u001b[43m(\u001b[49m\u001b[43m)\u001b[49m\u001b[43m,\u001b[49m\u001b[43m \u001b[49m\u001b[43mname\u001b[49m\u001b[43m)\u001b[49m\u001b[43m(\u001b[49m\u001b[38;5;241;43m*\u001b[39;49m\u001b[43margs\u001b[49m\u001b[43m,\u001b[49m\u001b[43m \u001b[49m\u001b[38;5;241;43m*\u001b[39;49m\u001b[38;5;241;43m*\u001b[39;49m\u001b[43mkwargs\u001b[49m\u001b[43m)\u001b[49m\n",
      "File \u001b[0;32m~/src/django/codio-blog-banjo/blango/env/lib/python3.9/site-packages/django/db/models/query.py:974\u001b[0m, in \u001b[0;36mQuerySet.filter\u001b[0;34m(self, *args, **kwargs)\u001b[0m\n\u001b[1;32m    969\u001b[0m \u001b[38;5;124;03m\"\"\"\u001b[39;00m\n\u001b[1;32m    970\u001b[0m \u001b[38;5;124;03mReturn a new QuerySet instance with the args ANDed to the existing\u001b[39;00m\n\u001b[1;32m    971\u001b[0m \u001b[38;5;124;03mset.\u001b[39;00m\n\u001b[1;32m    972\u001b[0m \u001b[38;5;124;03m\"\"\"\u001b[39;00m\n\u001b[1;32m    973\u001b[0m \u001b[38;5;28mself\u001b[39m\u001b[38;5;241m.\u001b[39m_not_support_combined_queries(\u001b[38;5;124m'\u001b[39m\u001b[38;5;124mfilter\u001b[39m\u001b[38;5;124m'\u001b[39m)\n\u001b[0;32m--> 974\u001b[0m \u001b[38;5;28;01mreturn\u001b[39;00m \u001b[38;5;28;43mself\u001b[39;49m\u001b[38;5;241;43m.\u001b[39;49m\u001b[43m_filter_or_exclude\u001b[49m\u001b[43m(\u001b[49m\u001b[38;5;28;43;01mFalse\u001b[39;49;00m\u001b[43m,\u001b[49m\u001b[43m \u001b[49m\u001b[43margs\u001b[49m\u001b[43m,\u001b[49m\u001b[43m \u001b[49m\u001b[43mkwargs\u001b[49m\u001b[43m)\u001b[49m\n",
      "File \u001b[0;32m~/src/django/codio-blog-banjo/blango/env/lib/python3.9/site-packages/django/db/models/query.py:992\u001b[0m, in \u001b[0;36mQuerySet._filter_or_exclude\u001b[0;34m(self, negate, args, kwargs)\u001b[0m\n\u001b[1;32m    990\u001b[0m     clone\u001b[38;5;241m.\u001b[39m_deferred_filter \u001b[38;5;241m=\u001b[39m negate, args, kwargs\n\u001b[1;32m    991\u001b[0m \u001b[38;5;28;01melse\u001b[39;00m:\n\u001b[0;32m--> 992\u001b[0m     \u001b[43mclone\u001b[49m\u001b[38;5;241;43m.\u001b[39;49m\u001b[43m_filter_or_exclude_inplace\u001b[49m\u001b[43m(\u001b[49m\u001b[43mnegate\u001b[49m\u001b[43m,\u001b[49m\u001b[43m \u001b[49m\u001b[43margs\u001b[49m\u001b[43m,\u001b[49m\u001b[43m \u001b[49m\u001b[43mkwargs\u001b[49m\u001b[43m)\u001b[49m\n\u001b[1;32m    993\u001b[0m \u001b[38;5;28;01mreturn\u001b[39;00m clone\n",
      "File \u001b[0;32m~/src/django/codio-blog-banjo/blango/env/lib/python3.9/site-packages/django/db/models/query.py:999\u001b[0m, in \u001b[0;36mQuerySet._filter_or_exclude_inplace\u001b[0;34m(self, negate, args, kwargs)\u001b[0m\n\u001b[1;32m    997\u001b[0m     \u001b[38;5;28mself\u001b[39m\u001b[38;5;241m.\u001b[39m_query\u001b[38;5;241m.\u001b[39madd_q(\u001b[38;5;241m~\u001b[39mQ(\u001b[38;5;241m*\u001b[39margs, \u001b[38;5;241m*\u001b[39m\u001b[38;5;241m*\u001b[39mkwargs))\n\u001b[1;32m    998\u001b[0m \u001b[38;5;28;01melse\u001b[39;00m:\n\u001b[0;32m--> 999\u001b[0m     \u001b[38;5;28;43mself\u001b[39;49m\u001b[38;5;241;43m.\u001b[39;49m\u001b[43m_query\u001b[49m\u001b[38;5;241;43m.\u001b[39;49m\u001b[43madd_q\u001b[49m\u001b[43m(\u001b[49m\u001b[43mQ\u001b[49m\u001b[43m(\u001b[49m\u001b[38;5;241;43m*\u001b[39;49m\u001b[43margs\u001b[49m\u001b[43m,\u001b[49m\u001b[43m \u001b[49m\u001b[38;5;241;43m*\u001b[39;49m\u001b[38;5;241;43m*\u001b[39;49m\u001b[43mkwargs\u001b[49m\u001b[43m)\u001b[49m\u001b[43m)\u001b[49m\n",
      "File \u001b[0;32m~/src/django/codio-blog-banjo/blango/env/lib/python3.9/site-packages/django/db/models/sql/query.py:1375\u001b[0m, in \u001b[0;36mQuery.add_q\u001b[0;34m(self, q_object)\u001b[0m\n\u001b[1;32m   1368\u001b[0m \u001b[38;5;66;03m# For join promotion this case is doing an AND for the added q_object\u001b[39;00m\n\u001b[1;32m   1369\u001b[0m \u001b[38;5;66;03m# and existing conditions. So, any existing inner join forces the join\u001b[39;00m\n\u001b[1;32m   1370\u001b[0m \u001b[38;5;66;03m# type to remain inner. Existing outer joins can however be demoted.\u001b[39;00m\n\u001b[1;32m   1371\u001b[0m \u001b[38;5;66;03m# (Consider case where rel_a is LOUTER and rel_a__col=1 is added - if\u001b[39;00m\n\u001b[1;32m   1372\u001b[0m \u001b[38;5;66;03m# rel_a doesn't produce any rows, then the whole condition must fail.\u001b[39;00m\n\u001b[1;32m   1373\u001b[0m \u001b[38;5;66;03m# So, demotion is OK.\u001b[39;00m\n\u001b[1;32m   1374\u001b[0m existing_inner \u001b[38;5;241m=\u001b[39m {a \u001b[38;5;28;01mfor\u001b[39;00m a \u001b[38;5;129;01min\u001b[39;00m \u001b[38;5;28mself\u001b[39m\u001b[38;5;241m.\u001b[39malias_map \u001b[38;5;28;01mif\u001b[39;00m \u001b[38;5;28mself\u001b[39m\u001b[38;5;241m.\u001b[39malias_map[a]\u001b[38;5;241m.\u001b[39mjoin_type \u001b[38;5;241m==\u001b[39m INNER}\n\u001b[0;32m-> 1375\u001b[0m clause, _ \u001b[38;5;241m=\u001b[39m \u001b[38;5;28;43mself\u001b[39;49m\u001b[38;5;241;43m.\u001b[39;49m\u001b[43m_add_q\u001b[49m\u001b[43m(\u001b[49m\u001b[43mq_object\u001b[49m\u001b[43m,\u001b[49m\u001b[43m \u001b[49m\u001b[38;5;28;43mself\u001b[39;49m\u001b[38;5;241;43m.\u001b[39;49m\u001b[43mused_aliases\u001b[49m\u001b[43m)\u001b[49m\n\u001b[1;32m   1376\u001b[0m \u001b[38;5;28;01mif\u001b[39;00m clause:\n\u001b[1;32m   1377\u001b[0m     \u001b[38;5;28mself\u001b[39m\u001b[38;5;241m.\u001b[39mwhere\u001b[38;5;241m.\u001b[39madd(clause, AND)\n",
      "File \u001b[0;32m~/src/django/codio-blog-banjo/blango/env/lib/python3.9/site-packages/django/db/models/sql/query.py:1396\u001b[0m, in \u001b[0;36mQuery._add_q\u001b[0;34m(self, q_object, used_aliases, branch_negated, current_negated, allow_joins, split_subq, check_filterable)\u001b[0m\n\u001b[1;32m   1394\u001b[0m joinpromoter \u001b[38;5;241m=\u001b[39m JoinPromoter(q_object\u001b[38;5;241m.\u001b[39mconnector, \u001b[38;5;28mlen\u001b[39m(q_object\u001b[38;5;241m.\u001b[39mchildren), current_negated)\n\u001b[1;32m   1395\u001b[0m \u001b[38;5;28;01mfor\u001b[39;00m child \u001b[38;5;129;01min\u001b[39;00m q_object\u001b[38;5;241m.\u001b[39mchildren:\n\u001b[0;32m-> 1396\u001b[0m     child_clause, needed_inner \u001b[38;5;241m=\u001b[39m \u001b[38;5;28;43mself\u001b[39;49m\u001b[38;5;241;43m.\u001b[39;49m\u001b[43mbuild_filter\u001b[49m\u001b[43m(\u001b[49m\n\u001b[1;32m   1397\u001b[0m \u001b[43m        \u001b[49m\u001b[43mchild\u001b[49m\u001b[43m,\u001b[49m\u001b[43m \u001b[49m\u001b[43mcan_reuse\u001b[49m\u001b[38;5;241;43m=\u001b[39;49m\u001b[43mused_aliases\u001b[49m\u001b[43m,\u001b[49m\u001b[43m \u001b[49m\u001b[43mbranch_negated\u001b[49m\u001b[38;5;241;43m=\u001b[39;49m\u001b[43mbranch_negated\u001b[49m\u001b[43m,\u001b[49m\n\u001b[1;32m   1398\u001b[0m \u001b[43m        \u001b[49m\u001b[43mcurrent_negated\u001b[49m\u001b[38;5;241;43m=\u001b[39;49m\u001b[43mcurrent_negated\u001b[49m\u001b[43m,\u001b[49m\u001b[43m \u001b[49m\u001b[43mallow_joins\u001b[49m\u001b[38;5;241;43m=\u001b[39;49m\u001b[43mallow_joins\u001b[49m\u001b[43m,\u001b[49m\n\u001b[1;32m   1399\u001b[0m \u001b[43m        \u001b[49m\u001b[43msplit_subq\u001b[49m\u001b[38;5;241;43m=\u001b[39;49m\u001b[43msplit_subq\u001b[49m\u001b[43m,\u001b[49m\u001b[43m \u001b[49m\u001b[43mcheck_filterable\u001b[49m\u001b[38;5;241;43m=\u001b[39;49m\u001b[43mcheck_filterable\u001b[49m\u001b[43m,\u001b[49m\n\u001b[1;32m   1400\u001b[0m \u001b[43m    \u001b[49m\u001b[43m)\u001b[49m\n\u001b[1;32m   1401\u001b[0m     joinpromoter\u001b[38;5;241m.\u001b[39madd_votes(needed_inner)\n\u001b[1;32m   1402\u001b[0m     \u001b[38;5;28;01mif\u001b[39;00m child_clause:\n",
      "File \u001b[0;32m~/src/django/codio-blog-banjo/blango/env/lib/python3.9/site-packages/django/db/models/sql/query.py:1271\u001b[0m, in \u001b[0;36mQuery.build_filter\u001b[0;34m(self, filter_expr, branch_negated, current_negated, can_reuse, allow_joins, split_subq, check_filterable)\u001b[0m\n\u001b[1;32m   1269\u001b[0m \u001b[38;5;28;01mif\u001b[39;00m \u001b[38;5;129;01mnot\u001b[39;00m arg:\n\u001b[1;32m   1270\u001b[0m     \u001b[38;5;28;01mraise\u001b[39;00m FieldError(\u001b[38;5;124m\"\u001b[39m\u001b[38;5;124mCannot parse keyword query \u001b[39m\u001b[38;5;132;01m%r\u001b[39;00m\u001b[38;5;124m\"\u001b[39m \u001b[38;5;241m%\u001b[39m arg)\n\u001b[0;32m-> 1271\u001b[0m lookups, parts, reffed_expression \u001b[38;5;241m=\u001b[39m \u001b[38;5;28;43mself\u001b[39;49m\u001b[38;5;241;43m.\u001b[39;49m\u001b[43msolve_lookup_type\u001b[49m\u001b[43m(\u001b[49m\u001b[43marg\u001b[49m\u001b[43m)\u001b[49m\n\u001b[1;32m   1273\u001b[0m \u001b[38;5;28;01mif\u001b[39;00m check_filterable:\n\u001b[1;32m   1274\u001b[0m     \u001b[38;5;28mself\u001b[39m\u001b[38;5;241m.\u001b[39mcheck_filterable(reffed_expression)\n",
      "File \u001b[0;32m~/src/django/codio-blog-banjo/blango/env/lib/python3.9/site-packages/django/db/models/sql/query.py:1099\u001b[0m, in \u001b[0;36mQuery.solve_lookup_type\u001b[0;34m(self, lookup)\u001b[0m\n\u001b[1;32m   1097\u001b[0m     \u001b[38;5;28;01mif\u001b[39;00m expression:\n\u001b[1;32m   1098\u001b[0m         \u001b[38;5;28;01mreturn\u001b[39;00m expression_lookups, (), expression\n\u001b[0;32m-> 1099\u001b[0m _, field, _, lookup_parts \u001b[38;5;241m=\u001b[39m \u001b[38;5;28;43mself\u001b[39;49m\u001b[38;5;241;43m.\u001b[39;49m\u001b[43mnames_to_path\u001b[49m\u001b[43m(\u001b[49m\u001b[43mlookup_splitted\u001b[49m\u001b[43m,\u001b[49m\u001b[43m \u001b[49m\u001b[38;5;28;43mself\u001b[39;49m\u001b[38;5;241;43m.\u001b[39;49m\u001b[43mget_meta\u001b[49m\u001b[43m(\u001b[49m\u001b[43m)\u001b[49m\u001b[43m)\u001b[49m\n\u001b[1;32m   1100\u001b[0m field_parts \u001b[38;5;241m=\u001b[39m lookup_splitted[\u001b[38;5;241m0\u001b[39m:\u001b[38;5;28mlen\u001b[39m(lookup_splitted) \u001b[38;5;241m-\u001b[39m \u001b[38;5;28mlen\u001b[39m(lookup_parts)]\n\u001b[1;32m   1101\u001b[0m \u001b[38;5;28;01mif\u001b[39;00m \u001b[38;5;28mlen\u001b[39m(lookup_parts) \u001b[38;5;241m>\u001b[39m \u001b[38;5;241m1\u001b[39m \u001b[38;5;129;01mand\u001b[39;00m \u001b[38;5;129;01mnot\u001b[39;00m field_parts:\n",
      "File \u001b[0;32m~/src/django/codio-blog-banjo/blango/env/lib/python3.9/site-packages/django/db/models/sql/query.py:1500\u001b[0m, in \u001b[0;36mQuery.names_to_path\u001b[0;34m(self, names, opts, allow_many, fail_on_missing)\u001b[0m\n\u001b[1;32m   1495\u001b[0m \u001b[38;5;28;01mif\u001b[39;00m field \u001b[38;5;129;01mis\u001b[39;00m \u001b[38;5;129;01mnot\u001b[39;00m \u001b[38;5;28;01mNone\u001b[39;00m:\n\u001b[1;32m   1496\u001b[0m     \u001b[38;5;66;03m# Fields that contain one-to-many relations with a generic\u001b[39;00m\n\u001b[1;32m   1497\u001b[0m     \u001b[38;5;66;03m# model (like a GenericForeignKey) cannot generate reverse\u001b[39;00m\n\u001b[1;32m   1498\u001b[0m     \u001b[38;5;66;03m# relations and therefore cannot be used for reverse querying.\u001b[39;00m\n\u001b[1;32m   1499\u001b[0m     \u001b[38;5;28;01mif\u001b[39;00m field\u001b[38;5;241m.\u001b[39mis_relation \u001b[38;5;129;01mand\u001b[39;00m \u001b[38;5;129;01mnot\u001b[39;00m field\u001b[38;5;241m.\u001b[39mrelated_model:\n\u001b[0;32m-> 1500\u001b[0m         \u001b[38;5;28;01mraise\u001b[39;00m FieldError(\n\u001b[1;32m   1501\u001b[0m             \u001b[38;5;124m\"\u001b[39m\u001b[38;5;124mField \u001b[39m\u001b[38;5;132;01m%r\u001b[39;00m\u001b[38;5;124m does not generate an automatic reverse \u001b[39m\u001b[38;5;124m\"\u001b[39m\n\u001b[1;32m   1502\u001b[0m             \u001b[38;5;124m\"\u001b[39m\u001b[38;5;124mrelation and therefore cannot be used for reverse \u001b[39m\u001b[38;5;124m\"\u001b[39m\n\u001b[1;32m   1503\u001b[0m             \u001b[38;5;124m\"\u001b[39m\u001b[38;5;124mquerying. If it is a GenericForeignKey, consider \u001b[39m\u001b[38;5;124m\"\u001b[39m\n\u001b[1;32m   1504\u001b[0m             \u001b[38;5;124m\"\u001b[39m\u001b[38;5;124madding a GenericRelation.\u001b[39m\u001b[38;5;124m\"\u001b[39m \u001b[38;5;241m%\u001b[39m name\n\u001b[1;32m   1505\u001b[0m         )\n\u001b[1;32m   1506\u001b[0m     \u001b[38;5;28;01mtry\u001b[39;00m:\n\u001b[1;32m   1507\u001b[0m         model \u001b[38;5;241m=\u001b[39m field\u001b[38;5;241m.\u001b[39mmodel\u001b[38;5;241m.\u001b[39m_meta\u001b[38;5;241m.\u001b[39mconcrete_model\n",
      "\u001b[0;31mFieldError\u001b[0m: Field 'content_object' does not generate an automatic reverse relation and therefore cannot be used for reverse querying. If it is a GenericForeignKey, consider adding a GenericRelation."
     ]
    }
   ],
   "source": [
    "c = Comment.objects.filter(content_object=p)"
   ]
  },
  {
   "cell_type": "markdown",
   "id": "c52a0355",
   "metadata": {},
   "source": [
    "### Find the list of class containing GenericForeignKey from referenced object"
   ]
  },
  {
   "cell_type": "code",
   "execution_count": 20,
   "id": "1eba582c",
   "metadata": {},
   "outputs": [
    {
     "data": {
      "text/plain": [
       "<QuerySet [<Comment: What a great post!...>]>"
      ]
     },
     "execution_count": 20,
     "metadata": {},
     "output_type": "execute_result"
    }
   ],
   "source": [
    "# c = Comment.objects.filter(content_object=p) -- doesn't work\n",
    "# We need to filter() against the content_type and object_id field directly.\n",
    "\n",
    "from django.contrib.contenttypes.models import ContentType\n",
    "from blog.models import Post, Comment\n",
    "post_type = ContentType.objects.get_for_model(Post)\n",
    "p = Post.objects.first()\n",
    "c = Comment.objects.filter(content_type=post_type,object_id=p.pk)\n",
    "c"
   ]
  },
  {
   "cell_type": "code",
   "execution_count": 3,
   "id": "5a6bc178",
   "metadata": {},
   "outputs": [
    {
     "data": {
      "text/plain": [
       "<QuerySet [<Comment: What a great post!...>]>"
      ]
     },
     "execution_count": 3,
     "metadata": {},
     "output_type": "execute_result"
    }
   ],
   "source": [
    "#GenericRelation\n",
    "from blog.models import Post, Comment\n",
    "p = Post.objects.first()\n",
    "p.comments.all()"
   ]
  },
  {
   "cell_type": "code",
   "execution_count": null,
   "id": "a29a4ba5",
   "metadata": {},
   "outputs": [],
   "source": []
  }
 ],
 "metadata": {
  "kernelspec": {
   "display_name": "Django Shell-Plus",
   "language": "python",
   "name": "django_extensions"
  },
  "language_info": {
   "codemirror_mode": {
    "name": "ipython",
    "version": 3
   },
   "file_extension": ".py",
   "mimetype": "text/x-python",
   "name": "python",
   "nbconvert_exporter": "python",
   "pygments_lexer": "ipython3",
   "version": "3.9.9"
  }
 },
 "nbformat": 4,
 "nbformat_minor": 5
}
